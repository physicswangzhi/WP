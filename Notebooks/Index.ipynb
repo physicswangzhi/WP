{
 "cells": [
  {
   "cell_type": "markdown",
   "metadata": {
    "slideshow": {
     "slide_type": "slide"
    }
   },
   "source": [
    "# Research notes for Cooper pair splitting"
   ]
  },
  {
   "cell_type": "markdown",
   "metadata": {
    "slideshow": {
     "slide_type": "slide"
    }
   },
   "source": [
    "## Electron Tunneling Phenomenon\n",
    "\n",
    "Besides the study of the transport in bulk materials, the investigation of nano-scale system becomes important. These systems have a tunneling mechanism and conductance (instead of conductivity) is important. \n",
    "\n",
    "In this note, we will discuss the  Josephson junctions in which Cooper pair splitting shows up. We begin from a review of the tunneling calculations in the formalism of Green function expression. \n"
   ]
  },
  {
   "cell_type": "markdown",
   "metadata": {
    "slideshow": {
     "slide_type": "slide"
    }
   },
   "source": [
    "## Notes Before We Get Started\n",
    "\n",
    "- Derivations are not complete. More notes are to be added.\n",
    "\n"
   ]
  },
  {
   "cell_type": "markdown",
   "metadata": {
    "slideshow": {
     "slide_type": "slide"
    }
   },
   "source": [
    "## Introduction\n",
    "\n",
    "- [Simple Junction: {\\it Matsubara Formalism}](http://physicswangzhi.github.io/CPS/Notebooks/simplejunction.html)\n"
   ]
  }
 ],
 "metadata": {
  "anaconda-cloud": {},
  "celltoolbar": "Slideshow",
  "kernelspec": {
   "display_name": "Python 3",
   "language": "python",
   "name": "python3"
  },
  "language_info": {
   "codemirror_mode": {
    "name": "ipython",
    "version": 3
   },
   "file_extension": ".py",
   "mimetype": "text/x-python",
   "name": "python",
   "nbconvert_exporter": "python",
   "pygments_lexer": "ipython3",
   "version": "3.5.2"
  }
 },
 "nbformat": 4,
 "nbformat_minor": 1
}
