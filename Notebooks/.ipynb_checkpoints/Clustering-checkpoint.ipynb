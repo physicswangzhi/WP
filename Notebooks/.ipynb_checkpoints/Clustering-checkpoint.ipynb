{
 "cells": [
  {
   "cell_type": "markdown",
   "metadata": {},
   "source": [
    "# Clustering\n"
   ]
  },
  {
   "cell_type": "markdown",
   "metadata": {},
   "source": [
    "## Clustering Task\n",
    "\n",
    " - Use Affinity Propagraion from [Clustering.jl](https://github.com/JuliaStats/Clustering.jl), to cluster word2vec word embeddings, according to meaning.\n",
    " - Done right this will seperate locations from sports\n",
    " - Done finely and it will seperate ball-sports from other sports, and will seperate locations according to regions, etc \n",
    " \n",
    " - Affinity propagraion requires a similarity matrix, which you can set as a negated distance matrix. \n",
    " - For this you'll also want  [Distances.jl](https://github.com/JuliaStats/Distances.jl) for all your distance metric needs. \n",
    " - It is traditional with word2vec to use cosine distance.\n",
    " - You will as also need to set each item's availability. This is the diagonal of the similarity matrix. Decreasing it roughly corresponds to decreasing the amount each node wants to be in a cluster on its own.\n",
    " \n",
    " "
   ]
  },
  {
   "cell_type": "markdown",
   "metadata": {},
   "source": [
    "# First we loadup some data\n",
    "For the the example presented here, we will use a subhset of Word Embedding, trained using [Word2Vec.jl](https://github.com/tanmaykm/Word2Vec.jl).\n",
    "These are 100 dimentional vectors, which encode syntactic and semantic information about words.\n",
    "\n",
    "You can download the datased from [here](http://ucidatascienceinitiative.github.io/IntroToJulia/Html/ForwardDiff), and load it up with [JLD](https://github.com/JuliaIO/JLD.jl) as shown below. (or just load it directly if you have cloned the notebooks)"
   ]
  },
  {
   "cell_type": "code",
   "execution_count": null,
   "metadata": {
    "collapsed": false,
    "scrolled": true
   },
   "outputs": [],
   "source": [
    "using JLD\n",
    "embeddings = load(\"../assets/ClusteringAndDimentionalityReduction.jld\", \"embeddings\")"
   ]
  }
 ],
 "metadata": {
  "anaconda-cloud": {},
  "kernelspec": {
   "display_name": "Julia 0.5.0",
   "language": "julia",
   "name": "julia-0.5"
  },
  "language_info": {
   "file_extension": ".jl",
   "mimetype": "application/julia",
   "name": "julia",
   "version": "0.5.0"
  }
 },
 "nbformat": 4,
 "nbformat_minor": 0
}
