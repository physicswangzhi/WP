{
 "cells": [
  {
   "cell_type": "markdown",
   "metadata": {},
   "source": [
    "# Solutions to the Clustering Task\n",
    "\n",
    "\n"
   ]
  },
  {
   "cell_type": "markdown",
   "metadata": {},
   "source": [
    "## Clustering\n",
    "The main clustering package for julia, is unexpectedly, named [Clustering.jl](https://github.com/JuliaStats/Clustering.jl)\n",
    " - It supports K-means, K-medoids, Affinity Propagation, DBSCAN\n",
    " - It also supports hierarchical clustering, but that is not currently in the docs.\n",
    " \n",
    "You'll also want  [Distances.jl](https://github.com/JuliaStats/Distances.jl) for all your distance metric needs.\n",
    "It is traditional with word2vec to use cosine distance.\n",
    "\n",
    "### Affinity Propagraion\n",
    "If you set the availability right, it can get a breakdown where the ball-sports and clustered seperately from the other sports. Though you may have problems with some of the cities being classes as sports, as this word2vec repressentation was trained on a dump of wikipedia taken in 2014, and there are a lot of sports pages talking about the Athens and Beijing olypics.\n"
   ]
  },
  {
   "cell_type": "markdown",
   "metadata": {},
   "source": [
    "# First we loadup some data\n",
    "For the the example presented here, we will use a subhset of Word Embedding, trained using [Word2Vec.jl](https://github.com/tanmaykm/Word2Vec.jl).\n",
    "These are 100 dimentional vectors, which encode syntactic and semantic information about words."
   ]
  },
  {
   "cell_type": "code",
   "execution_count": 1,
   "metadata": {
    "scrolled": true
   },
   "outputs": [
    {
     "data": {
      "text/plain": [
       "Dict{String,Array{Float32,1}} with 185 entries:\n",
       "  \"ferret\"       => Float32[0.0945707,-0.435267,0.0109875,-0.107674,0.169001,-0…\n",
       "  \"gymnastics\"   => Float32[-0.269173,-0.343412,-0.00603042,-0.186179,0.0342606…\n",
       "  \"vegas\"        => Float32[-0.00530534,-0.264874,0.0167432,-0.289836,-0.14033,…\n",
       "  \"archery\"      => Float32[0.0279714,-0.485648,0.105468,-0.0696941,0.182807,-0…\n",
       "  \"jacksonville\" => Float32[-0.418758,-0.0284594,0.00847164,-0.0989162,0.098186…\n",
       "  \"ankara\"       => Float32[-0.139109,0.0872892,0.749557,-0.0308427,-0.0936718,…\n",
       "  \"pentathlon\"   => Float32[-0.357405,-0.379595,-0.134314,-0.31008,-0.0245871,-…\n",
       "  \"seoul\"        => Float32[0.0274904,-0.153844,-0.0936614,-0.0269344,-0.091449…\n",
       "  \"china\"        => Float32[0.132423,-0.515862,-0.0381339,-0.287565,-0.285202,-…\n",
       "  \"korea\"        => Float32[0.236904,-0.128355,-0.0816942,-0.0702621,-0.148426,…\n",
       "  \"argentina\"    => Float32[-0.113967,-0.437523,-0.226014,-0.439572,-0.230062,-…\n",
       "  \"mozambique\"   => Float32[0.309411,-0.13457,-0.632055,-0.309943,0.040591,0.11…\n",
       "  \"iraq\"         => Float32[-0.260673,0.0356129,0.104878,0.103836,-0.17918,-0.3…\n",
       "  \"baku\"         => Float32[0.182572,0.156322,0.225807,-0.0933851,-0.246997,-0.…\n",
       "  \"jakarta\"      => Float32[0.13052,-0.408592,-0.0138496,-0.415052,0.21523,-0.0…\n",
       "  \"bogotá\"       => Float32[-0.26368,-0.292844,-0.338501,-0.278793,-0.0690988,0…\n",
       "  \"sacramento\"   => Float32[-0.217914,-0.116757,-0.213111,-0.13627,-0.0241341,-…\n",
       "  \"dhaka\"        => Float32[-0.0264262,-0.256298,0.0922423,-0.711511,-0.329286,…\n",
       "  \"kyiv\"         => Float32[-0.0527193,0.219892,-0.298013,-0.594799,-0.452732,-…\n",
       "  \"houston\"      => Float32[-0.301442,-0.133911,-0.17504,-0.0391225,-0.0525875,…\n",
       "  \"italy\"        => Float32[0.246153,-0.0510639,-0.143408,-0.149572,-0.229163,-…\n",
       "  \"francisco\"    => Float32[-0.342338,-0.200734,-0.347174,-0.228947,-0.125513,-…\n",
       "  \"baghdad\"      => Float32[-0.309163,0.00524779,0.287937,0.0294381,-0.173093,-…\n",
       "  \"dog\"          => Float32[0.0509182,-0.479764,0.0209584,-0.0409415,0.0650602,…\n",
       "  \"kabul\"        => Float32[-0.0282727,-0.108688,0.249284,0.119064,-0.163644,-0…\n",
       "  ⋮              => ⋮"
      ]
     },
     "execution_count": 1,
     "metadata": {},
     "output_type": "execute_result"
    }
   ],
   "source": [
    "using JLD\n",
    "embeddings = load(\"../assets/ClusteringAndDimentionalityReduction.jld\", \"embeddings\")"
   ]
  },
  {
   "cell_type": "code",
   "execution_count": 2,
   "metadata": {
    "scrolled": true
   },
   "outputs": [
    {
     "data": {
      "text/plain": [
       "185-element Array{String,1}:\n",
       " \"ferret\"      \n",
       " \"gymnastics\"  \n",
       " \"vegas\"       \n",
       " \"archery\"     \n",
       " \"jacksonville\"\n",
       " \"ankara\"      \n",
       " \"pentathlon\"  \n",
       " \"seoul\"       \n",
       " \"china\"       \n",
       " \"korea\"       \n",
       " \"argentina\"   \n",
       " \"mozambique\"  \n",
       " \"iraq\"        \n",
       " ⋮             \n",
       " \"volleyball\"  \n",
       " \"luanda\"      \n",
       " \"ghana\"       \n",
       " \"warsaw\"      \n",
       " \"accra\"       \n",
       " \"indianapolis\"\n",
       " \"las\"         \n",
       " \"russia\"      \n",
       " \"columbus\"    \n",
       " \"thailand\"    \n",
       " \"mesa\"        \n",
       " \"goose\"       "
      ]
     },
     "metadata": {},
     "output_type": "display_data"
    },
    {
     "data": {
      "text/plain": [
       "100×185 Array{Float32,2}:\n",
       "  0.0945707   -0.269173    …   0.0859109  -0.215521     0.118283 \n",
       " -0.435267    -0.343412       -0.185847   -0.0846722   -0.40088  \n",
       "  0.0109875   -0.00603042      0.131935   -0.452262     0.0091058\n",
       " -0.107674    -0.186179       -0.221565   -0.115309     0.0121521\n",
       "  0.169001     0.0342606      -0.0558827  -0.373113    -0.0509757\n",
       " -0.0564122   -0.137685    …  -0.0252548  -0.264813    -0.24657  \n",
       " -0.249841    -0.162321        0.0430546   0.0958876    0.0397347\n",
       " -0.115424    -0.253833        0.161854   -0.274667    -0.120246 \n",
       " -0.302291     0.0844513      -0.263644   -0.158253    -0.0829336\n",
       " -0.0232056    0.138056       -0.476437   -0.1159       0.0935187\n",
       " -0.0826832    0.0510365   …  -0.190116   -0.00022561  -0.338357 \n",
       " -0.11338      0.0767575      -0.0493041  -0.252975    -0.0785137\n",
       " -0.255015    -0.591677        0.0772709   0.180385    -0.134259 \n",
       "  ⋮                        ⋱                                     \n",
       " -0.191331    -0.290943       -0.164481   -0.0834075    0.182234 \n",
       "  0.0188895   -0.594902       -0.365009    0.0104588    0.205071 \n",
       " -0.1854       0.169166    …  -0.175704   -0.00672958  -0.047146 \n",
       " -0.0505824    0.251584       -0.468982    0.257763    -0.0606379\n",
       " -0.169504     0.189358       -0.0463411  -0.0674982   -0.222475 \n",
       "  0.00213797  -0.113193        0.0145402  -0.192454    -0.087933 \n",
       " -0.0281012   -0.07121         0.158821   -0.00851574  -0.51206  \n",
       " -0.064161    -0.132502    …  -0.439959   -0.512601    -0.186174 \n",
       " -0.161479    -0.0524493       0.170235   -0.123051     0.0789853\n",
       "  0.0849455   -0.178514       -0.0547684  -0.578576     0.154197 \n",
       "  0.0256315   -0.154586        0.0279115  -0.28596      0.0913349\n",
       " -0.0626861    0.312328        0.338198    0.0463355   -0.14829  "
      ]
     },
     "execution_count": 2,
     "metadata": {},
     "output_type": "execute_result"
    }
   ],
   "source": [
    "all_words = collect(keys(embeddings))\n",
    "display(all_words)\n",
    "embeddings_mat = hcat(getindex.([embeddings], all_words)...)"
   ]
  },
  {
   "cell_type": "code",
   "execution_count": 3,
   "metadata": {},
   "outputs": [
    {
     "data": {
      "text/plain": [
       "Clustering.AffinityPropResult([10,17,24,49,77,84,87,88,91,107,136,148,161,165,174,182],[3,12,2,12,16,6,12,1,1,1  …  14,11,14,16,2,8,16,4,2,3],[9,12,14,9,7,14,7,8,15,7,5,20,5,19,10,24],46,true)"
      ]
     },
     "execution_count": 3,
     "metadata": {},
     "output_type": "execute_result"
    }
   ],
   "source": [
    "using Clustering\n",
    "using Distances\n",
    "\n",
    "similarity = 1f0 - pairwise(CosineDist(), embeddings_mat)\n",
    "availability = 0.01*ones(size(similarity,1)) \n",
    "# tweaking availability is how you control number of clusters\n",
    "# it is the diagonal of the similarity matrix\n",
    "similarity[diagind(size(similarity)...)] = availability\n",
    "aprop = affinityprop(similarity)"
   ]
  },
  {
   "cell_type": "code",
   "execution_count": 4,
   "metadata": {},
   "outputs": [
    {
     "name": "stdout",
     "output_type": "stream",
     "text": [
      "--------------------------------\n",
      "Exemplar: korea\n",
      "seoul, china, korea, pyongyang, japan, vietnam, tokyo, hanoi, taipei\n",
      "--------------------------------\n",
      "Exemplar: sacramento\n",
      "vegas, sacramento, francisco, tucson, seattle, san, albuquerque, denver, portland, fresno, las, mesa\n",
      "--------------------------------\n",
      "Exemplar: dog\n",
      "ferret, dog, goldfish, cattle, dove, yak, duck, llama, mouse, alpaca, pigeon, guineafowl, camel, goose\n",
      "--------------------------------\n",
      "Exemplar: indonesia\n",
      "jakarta, bangkok, myanmar, indonesia, manila, malaysia, philippines, singapore, thailand\n",
      "--------------------------------\n",
      "Exemplar: iran\n",
      "iraq, kabul, uzbekistan, tehran, iran, yemen, afghanistan\n",
      "--------------------------------\n",
      "Exemplar: cairo\n",
      "ankara, baghdad, algiers, khartoum, rabat, beirut, cairo, algeria, morocco, damascus, amman, egypt, arabia, riyadh\n",
      "--------------------------------\n",
      "Exemplar: vienna\n",
      "italy, rome, berlin, vienna, stockholm, budapest, paris\n",
      "--------------------------------\n",
      "Exemplar: moscow\n",
      "baku, kyiv, bucharest, tashkent, moscow, minsk, ukraine, russia\n",
      "--------------------------------\n",
      "Exemplar: colombia\n",
      "argentina, bogotá, lima, madrid, venezuela, havana, peru, colombia, brazil, brasília, quito, mexico, santiago, spain, caracas\n",
      "--------------------------------\n",
      "Exemplar: wales\n",
      "australia, england, london, wales, britain, rugby, ireland\n",
      "--------------------------------\n",
      "Exemplar: poland\n",
      "south, france, germany, poland, warsaw\n",
      "--------------------------------\n",
      "Exemplar: weightlifting\n",
      "gymnastics, archery, pentathlon, shooting, diving, swimming, fencing, rowing, taekwondo, cycling, judo, beijing, kayak, wrestling, triathlon, sailing, weightlifting, boxing, equestrian, athens\n",
      "--------------------------------\n",
      "Exemplar: bangladesh\n",
      "dhaka, nepal, pakistan, india, bangladesh\n",
      "--------------------------------\n",
      "Exemplar: uganda\n",
      "mozambique, madagascar, congo, yaoundé, pretoria, sudan, tanzania, angola, nigeria, kenya, kinshasa, antananarivo, kampala, nairobi, ethiopia, uganda, luanda, ghana, accra\n",
      "--------------------------------\n",
      "Exemplar: volleyball\n",
      "basketball, handball, polo, tennis, football, golf, hockey, soccer, badminton, volleyball\n",
      "--------------------------------\n",
      "Exemplar: columbus\n",
      "jacksonville, houston, nashville, raleigh, phoenix, washington, detroit, milwaukee, canada, chicago, usa, austin, field, charlotte, dallas, omaha, memphis, baltimore, atlanta, louisville, philadelphia, boston, indianapolis, columbus\n"
     ]
    }
   ],
   "source": [
    "for (cluster_ii, examplar_ind) in enumerate(aprop.exemplars)\n",
    "    println(\"-\"^32)\n",
    "    println(\"Exemplar: \", all_words[examplar_ind])\n",
    "    cluster_member_inds = find(assignments(aprop).==cluster_ii)\n",
    "    println(join(getindex.([all_words], cluster_member_inds), \", \"))\n",
    "end"
   ]
  }
 ],
 "metadata": {
  "kernelspec": {
   "display_name": "Julia 0.6.2",
   "language": "julia",
   "name": "julia-0.5"
  },
  "language_info": {
   "file_extension": ".jl",
   "mimetype": "application/julia",
   "name": "julia",
   "version": "0.5.0"
  }
 },
 "nbformat": 4,
 "nbformat_minor": 1
}
