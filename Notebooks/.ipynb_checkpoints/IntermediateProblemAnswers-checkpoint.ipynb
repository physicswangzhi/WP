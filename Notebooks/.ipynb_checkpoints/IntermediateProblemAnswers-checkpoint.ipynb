{
 "cells": [
  {
   "cell_type": "markdown",
   "metadata": {},
   "source": [
    "# Intermediate Problem Answers"
   ]
  },
  {
   "cell_type": "markdown",
   "metadata": {},
   "source": [
    "#### Regression Problem"
   ]
  },
  {
   "cell_type": "code",
   "execution_count": null,
   "metadata": {},
   "outputs": [],
   "source": [
    "#### Prepare Data\n",
    "\n",
    "X = rand(1000, 3)               # feature matrix\n",
    "a0 = rand(3)                    # ground truths\n",
    "y = X * a0 + 0.1 * randn(1000);  # generate response\n",
    "\n",
    "X2 = hcat(X,ones(1000))\n",
    "println(X2\\y)\n",
    "\n",
    "using MultivariateStats\n",
    "println(llsq(X,y))\n",
    "\n",
    "using DataFrames, GLM\n",
    "data = DataFrame(X1=X[:,1], X2=X[:,2], X3=X[:,3],Y=y)\n",
    "OLS = lm(@formula(Y ~ X1 + X2 + X3), data)\n",
    "\n",
    "\n",
    "X = rand(100);\n",
    "y = 2X  + 0.1 * randn(100);\n",
    "\n",
    "using Plots\n",
    "b = X\\y\n",
    "println(b)\n",
    "gr()\n",
    "scatter(X,y)\n",
    "Plots.abline!(b[1],0.0, lw=3) # Slope,Intercept"
   ]
  },
  {
   "cell_type": "markdown",
   "metadata": {},
   "source": [
    "## Distribution Dispatch Problem\n",
    "\n",
    "This is from Josh Day's talk: https://www.youtube.com/watch?v=EwcTNzpQ6Sc\n",
    "\n",
    "Solution is from: https://github.com/joshday/Talks/blob/master/SLG2016_IntroToJulia/Slides.ipynb"
   ]
  },
  {
   "cell_type": "code",
   "execution_count": null,
   "metadata": {
    "collapsed": true
   },
   "outputs": [],
   "source": [
    "function myquantile(d::UnivariateDistribution, q::Number)\n",
    "    θ = mean(d)\n",
    "    tol = Inf\n",
    "    while tol > 1e-5\n",
    "        θold = θ\n",
    "        θ = θ - (cdf(d, θ) - q) / pdf(d, θ)\n",
    "        tol = abs(θold - θ)\n",
    "    end\n",
    "    θ\n",
    "end\n",
    "\n",
    "for dist in [Gamma(5, 1), Normal(0, 1), Beta(2, 4)]\n",
    "    @show myquantile(dist, .75)\n",
    "    @show quantile(dist, .75)\n",
    "    println()\n",
    "end"
   ]
  }
 ],
 "metadata": {
  "anaconda-cloud": {},
  "kernelspec": {
   "display_name": "Julia 0.6.2",
   "language": "julia",
   "name": "julia-0.5"
  },
  "language_info": {
   "file_extension": ".jl",
   "mimetype": "application/julia",
   "name": "julia",
   "version": "0.6.2"
  }
 },
 "nbformat": 4,
 "nbformat_minor": 1
}
